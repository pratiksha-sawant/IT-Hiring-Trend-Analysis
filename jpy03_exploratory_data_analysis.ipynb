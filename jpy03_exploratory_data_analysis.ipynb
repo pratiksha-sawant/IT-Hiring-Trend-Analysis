{
 "cells": [
  {
   "cell_type": "code",
   "execution_count": 56,
   "metadata": {},
   "outputs": [],
   "source": [
    "import pandas as pd\n",
    "import numpy as np\n",
    "import nltk\n",
    "\n",
    "#Amazon S3\n",
    "import boto3\n",
    "from botocore.exceptions import ClientError"
   ]
  },
  {
   "cell_type": "code",
   "execution_count": 58,
   "metadata": {},
   "outputs": [
    {
     "data": {
      "text/html": [
       "<div>\n",
       "<style scoped>\n",
       "    .dataframe tbody tr th:only-of-type {\n",
       "        vertical-align: middle;\n",
       "    }\n",
       "\n",
       "    .dataframe tbody tr th {\n",
       "        vertical-align: top;\n",
       "    }\n",
       "\n",
       "    .dataframe thead th {\n",
       "        text-align: right;\n",
       "    }\n",
       "</style>\n",
       "<table border=\"1\" class=\"dataframe\">\n",
       "  <thead>\n",
       "    <tr style=\"text-align: right;\">\n",
       "      <th></th>\n",
       "      <th>company</th>\n",
       "      <th>location</th>\n",
       "      <th>title</th>\n",
       "      <th>job_desc</th>\n",
       "      <th>role</th>\n",
       "    </tr>\n",
       "  </thead>\n",
       "  <tbody>\n",
       "    <tr>\n",
       "      <th>0</th>\n",
       "      <td>T-Mobile</td>\n",
       "      <td>Atlanta, GA</td>\n",
       "      <td>Engineer, Software</td>\n",
       "      <td>NaN</td>\n",
       "      <td>software engineer</td>\n",
       "    </tr>\n",
       "    <tr>\n",
       "      <th>1</th>\n",
       "      <td>Defibtech</td>\n",
       "      <td>Branford, CT</td>\n",
       "      <td>Software Engineer</td>\n",
       "      <td>Supporting and implementing database updates o...</td>\n",
       "      <td>software engineer</td>\n",
       "    </tr>\n",
       "    <tr>\n",
       "      <th>2</th>\n",
       "      <td>Bart &amp; Associates, Inc.</td>\n",
       "      <td>Linthicum, MD</td>\n",
       "      <td>Mainframe Developer</td>\n",
       "      <td>Responsible for designing, building and admini...</td>\n",
       "      <td>software engineer</td>\n",
       "    </tr>\n",
       "    <tr>\n",
       "      <th>3</th>\n",
       "      <td>Assured Information Security, Inc. (AIS)</td>\n",
       "      <td>Chelmsford, MA</td>\n",
       "      <td>Assistant Software Engineer - Cross Domain and...</td>\n",
       "      <td>\\nAssist with the implementation of new featur...</td>\n",
       "      <td>software engineer</td>\n",
       "    </tr>\n",
       "    <tr>\n",
       "      <th>4</th>\n",
       "      <td>RPS</td>\n",
       "      <td>South Kingstown, RI</td>\n",
       "      <td>Senior Software Engineer</td>\n",
       "      <td>Develop and grow the RPS Ocean Science core we...</td>\n",
       "      <td>software engineer</td>\n",
       "    </tr>\n",
       "  </tbody>\n",
       "</table>\n",
       "</div>"
      ],
      "text/plain": [
       "                                    company             location  \\\n",
       "0                                  T-Mobile          Atlanta, GA   \n",
       "1                                 Defibtech         Branford, CT   \n",
       "2                   Bart & Associates, Inc.        Linthicum, MD   \n",
       "3  Assured Information Security, Inc. (AIS)       Chelmsford, MA   \n",
       "4                                       RPS  South Kingstown, RI   \n",
       "\n",
       "                                               title  \\\n",
       "0                                 Engineer, Software   \n",
       "1                                  Software Engineer   \n",
       "2                                Mainframe Developer   \n",
       "3  Assistant Software Engineer - Cross Domain and...   \n",
       "4                           Senior Software Engineer   \n",
       "\n",
       "                                            job_desc               role  \n",
       "0                                                NaN  software engineer  \n",
       "1  Supporting and implementing database updates o...  software engineer  \n",
       "2  Responsible for designing, building and admini...  software engineer  \n",
       "3  \\nAssist with the implementation of new featur...  software engineer  \n",
       "4  Develop and grow the RPS Ocean Science core we...  software engineer  "
      ]
     },
     "execution_count": 58,
     "metadata": {},
     "output_type": "execute_result"
    }
   ],
   "source": [
    "bucket = 's3://hiringtrendanalysis/jobdesc.csv' # already created on S3\n",
    "client = boto3.resource('s3')\n",
    "df = pd.read_csv(bucket)\n",
    "df = df.drop('Unnamed: 0', axis=1)\n",
    "df.head()"
   ]
  },
  {
   "cell_type": "code",
   "execution_count": 59,
   "metadata": {},
   "outputs": [
    {
     "data": {
      "text/plain": [
       "<bound method DataFrame.info of                                        company                 location  \\\n",
       "0                                     T-Mobile              Atlanta, GA   \n",
       "1                                    Defibtech             Branford, CT   \n",
       "2                      Bart & Associates, Inc.            Linthicum, MD   \n",
       "3     Assured Information Security, Inc. (AIS)           Chelmsford, MA   \n",
       "4                                          RPS      South Kingstown, RI   \n",
       "...                                        ...                      ...   \n",
       "7260                                   Entegee            Applewood, CO   \n",
       "7261                                       NaN            Princeton, NJ   \n",
       "7262                     Ascent Services Group  South San Francisco, CA   \n",
       "7263                      Advantage Resourcing          Minneapolis, MN   \n",
       "7264                          Pivotal Commware             Kirkland, WA   \n",
       "\n",
       "                                                  title  \\\n",
       "0                                    Engineer, Software   \n",
       "1                                     Software Engineer   \n",
       "2                                   Mainframe Developer   \n",
       "3     Assistant Software Engineer - Cross Domain and...   \n",
       "4                              Senior Software Engineer   \n",
       "...                                                 ...   \n",
       "7260        Python Data Analyst (NumPy Modbus IEC61850)   \n",
       "7261                              Data Science Engineer   \n",
       "7262                   Artificial Intelligence Engineer   \n",
       "7263                                      Data Engineer   \n",
       "7264                                 mmWave RF Engineer   \n",
       "\n",
       "                                               job_desc  \\\n",
       "0                                                   NaN   \n",
       "1     Supporting and implementing database updates o...   \n",
       "2     Responsible for designing, building and admini...   \n",
       "3     \\nAssist with the implementation of new featur...   \n",
       "4     Develop and grow the RPS Ocean Science core we...   \n",
       "...                                                 ...   \n",
       "7260  This position is for a midlevel Python Data An...   \n",
       "7261  Experience architecting and implementing syste...   \n",
       "7262  Participate in cutting edge research in machin...   \n",
       "7263  Significant experience in R/Python to perform ...   \n",
       "7264  Evaluate and qualify active and passive microw...   \n",
       "\n",
       "                           role  \n",
       "0             software engineer  \n",
       "1             software engineer  \n",
       "2             software engineer  \n",
       "3             software engineer  \n",
       "4             software engineer  \n",
       "...                         ...  \n",
       "7260  machine learning engineer  \n",
       "7261  machine learning engineer  \n",
       "7262  machine learning engineer  \n",
       "7263  machine learning engineer  \n",
       "7264  machine learning engineer  \n",
       "\n",
       "[7265 rows x 5 columns]>"
      ]
     },
     "execution_count": 59,
     "metadata": {},
     "output_type": "execute_result"
    }
   ],
   "source": [
    "df.info"
   ]
  },
  {
   "cell_type": "code",
   "execution_count": 60,
   "metadata": {},
   "outputs": [
    {
     "name": "stdout",
     "output_type": "stream",
     "text": [
      "Column names:\n",
      "------------------------------\n",
      "company\n",
      "location\n",
      "title\n",
      "job_desc\n",
      "role\n"
     ]
    }
   ],
   "source": [
    "print('Column names:')\n",
    "print('-' * 30)\n",
    "for i in df.columns:\n",
    "    print(i)"
   ]
  },
  {
   "cell_type": "code",
   "execution_count": 61,
   "metadata": {},
   "outputs": [
    {
     "data": {
      "text/plain": [
       "company     object\n",
       "location    object\n",
       "title       object\n",
       "job_desc    object\n",
       "role        object\n",
       "dtype: object"
      ]
     },
     "execution_count": 61,
     "metadata": {},
     "output_type": "execute_result"
    }
   ],
   "source": [
    "df.dtypes"
   ]
  },
  {
   "cell_type": "code",
   "execution_count": 62,
   "metadata": {},
   "outputs": [
    {
     "name": "stdout",
     "output_type": "stream",
     "text": [
      "Non null rows of job description\n",
      "6229\n"
     ]
    }
   ],
   "source": [
    "print('Non null rows of job description')\n",
    "count = df[\"job_desc\"].count()\n",
    "print(count)"
   ]
  },
  {
   "cell_type": "code",
   "execution_count": null,
   "metadata": {},
   "outputs": [],
   "source": []
  }
 ],
 "metadata": {
  "kernelspec": {
   "display_name": "Python 3",
   "language": "python",
   "name": "python3"
  },
  "language_info": {
   "codemirror_mode": {
    "name": "ipython",
    "version": 3
   },
   "file_extension": ".py",
   "mimetype": "text/x-python",
   "name": "python",
   "nbconvert_exporter": "python",
   "pygments_lexer": "ipython3",
   "version": "3.7.6"
  }
 },
 "nbformat": 4,
 "nbformat_minor": 4
}
