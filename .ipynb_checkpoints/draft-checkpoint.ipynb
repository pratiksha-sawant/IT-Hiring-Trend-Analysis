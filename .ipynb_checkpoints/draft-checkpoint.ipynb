{
 "cells": [
  {
   "cell_type": "code",
   "execution_count": null,
   "metadata": {},
   "outputs": [],
   "source": [
    "# #tokenize the sentences into words\n",
    "#     def tokenizedWords(self, corpus):\n",
    "#         filenames = ['pdfToText1.txt','pdfToText2.txt','pdfToText3.txt','pdfToText4.txt',\n",
    "#                      'pdfToText5.txt','pdfToText6.txt','pdfToText7.txt','pdfToText8.txt']\n",
    "#         unigrams = []\n",
    "#         bigrams = []\n",
    "#         tokenizedWords = []\n",
    "# #         ps = PorterStemmer()\n",
    "        \n",
    "#         for f in filenames:\n",
    "#             currentFile = (os.getcwd() +\"\\data\\covertedfiles\\\\\"+ f)\n",
    "#             with open(currentFile, \"r\", encoding=\"utf-8\") as f:\n",
    "# #             with open(\"finalfile.txt\", \"r\", encoding=\"utf-8\") as f:\n",
    "#                 line = f.read()\n",
    "#                 result = re.sub(\"[^a-z\\s]\", \"\", line, 0, re.IGNORECASE | re.MULTILINE)\n",
    "#                 words = result.split()\n",
    "#                 stop_words = set(stopwords.words('english'))\n",
    "\n",
    "#                 for w in words:\n",
    "#                     if w not in stop_words and len(w)>1:\n",
    "#                         unigrams.append(w.lower().strip())\n",
    "                \n",
    "#                 #Bigrams\n",
    "#                 nList= ngrams(words,2)\n",
    "                \n",
    "#                 for w in nList:\n",
    "#                     if w not in stop_words and len(w)>1:\n",
    "#                         tmp = ''.join(w)\n",
    "#                         bigrams.append(tmp.lower().strip())\n",
    "                \n",
    "#                 for u in unigrams:\n",
    "#                     tokenizedWords.append(u)\n",
    "                \n",
    "#                 for b in bigrams:\n",
    "#                     tokenizedWords.append(b)\n",
    "\n",
    "#         return tokenizedWords\n"
   ]
  },
  {
   "cell_type": "code",
   "execution_count": null,
   "metadata": {},
   "outputs": [],
   "source": [
    "#     unigrams, bigrams = pdfConverter.tokenizedWords()\n",
    "    \n",
    "#     uGrams = pd.DataFrame()\n",
    "#     bGrams = pd.DataFrame()\n",
    "    \n",
    "#     uGrams['col1'] = unigrams\n",
    "#     bGrams['col1'] = bigrams\n",
    "    \n",
    "#     pdfConverter.saveToExcelWorkbook(uGrams,bGrams)\n",
    "\n",
    "    \n",
    "#     uGrams.to_csv(os.getcwd()+'/data/unigrams.csv')\n",
    "#     bGrams.to_csv(os.getcwd()+'/data/bigrams.csv')"
   ]
  },
  {
   "cell_type": "code",
   "execution_count": null,
   "metadata": {},
   "outputs": [],
   "source": [
    "#         file = (os.getcwd() +\"\\data\\\\\"+ 'keywords.xlsx')\n",
    "#         writer = pd.ExcelWriter(file, engine='xlsxwriter')\n",
    "#         uGrams.to_excel(writer, sheet_name='unigrams')\n",
    "#         bGrams.to_excel(writer, sheet_name='bigrams')\n",
    "#         writer.save()"
   ]
  }
 ],
 "metadata": {
  "kernelspec": {
   "display_name": "Python 3",
   "language": "python",
   "name": "python3"
  },
  "language_info": {
   "codemirror_mode": {
    "name": "ipython",
    "version": 3
   },
   "file_extension": ".py",
   "mimetype": "text/x-python",
   "name": "python",
   "nbconvert_exporter": "python",
   "pygments_lexer": "ipython3",
   "version": "3.7.6"
  }
 },
 "nbformat": 4,
 "nbformat_minor": 4
}
