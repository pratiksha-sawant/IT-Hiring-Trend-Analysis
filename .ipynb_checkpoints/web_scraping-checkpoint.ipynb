{
 "cells": [
  {
   "cell_type": "code",
   "execution_count": 49,
   "metadata": {},
   "outputs": [],
   "source": [
    "import requests\n",
    "import bs4\n",
    "from bs4 import BeautifulSoup\n",
    "import pandas as pd\n",
    "import time\n",
    "\n",
    "import re\n",
    "\n",
    "#Amazon S3\n",
    "import boto3\n",
    "from botocore.exceptions import ClientError\n",
    "from io import StringIO"
   ]
  },
  {
   "cell_type": "code",
   "execution_count": 50,
   "metadata": {},
   "outputs": [],
   "source": [
    "def extract_job_info(soup, job_info,role):\n",
    "#     job_info = {}\n",
    "    temp = []\n",
    "    jobdesc = ''\n",
    "    mainpageURL = '' \n",
    "    count = len(job_info)\n",
    "    for div in soup.find_all(name=\"div\", attrs={\"class\":\"jobsearch-SerpJobCard\"}):\n",
    "        \n",
    "        for subdiv in div.find_all(name=\"div\", attrs={\"class\":\"sjcl\"}):\n",
    "            try:\n",
    "                s = subdiv.find(name=\"span\", attrs={\"class\":\"company\"})\n",
    "                temp.append((s.text).strip()) #fetches company names (3)\n",
    "            except:\n",
    "                temp.append(\"NA\")\n",
    "\n",
    "            try:\n",
    "                d = subdiv.find(name=\"div\", attrs={\"class\":\"recJobLoc\"})\n",
    "                temp.append((d['data-rc-loc']).strip()) #fetches location (4)\n",
    "            except:\n",
    "                temp.append(\"NA\")\n",
    "#         print(div)\n",
    "        \n",
    "        for a in div.find_all(name=\"a\", attrs={\"data-tn-element\":\"jobTitle\"}):\n",
    "            \n",
    "            try:\n",
    "                temp.append((a['title']).strip()) #fetches title (1)\n",
    "            except:\n",
    "                temp.append(\"NA\")\n",
    "            \n",
    "            try:\n",
    "                mainpageURL = str(\"https://www.indeed.com\" + a[\"href\"])\n",
    "#                 print(mainpageURL)\n",
    "                desc_page = requests.get(mainpageURL)\n",
    "                page_soup = BeautifulSoup(desc_page.text, \"html.parser\")\n",
    "                for dv in page_soup.find_all(name=\"div\", attrs={\"id\":\"jobDescriptionText\"}):\n",
    "                    for l in dv.find_all(\"li\"):\n",
    "                        jobdesc = jobdesc +''+ l.text\n",
    "#                     print(jobdesc)\n",
    "                    if jobdesc=='':\n",
    "                        temp.append('NA')\n",
    "                    else:\n",
    "                        temp.append(jobdesc)      #fetches job description (2)\n",
    "            except:\n",
    "                temp.append('NA')\n",
    "                \n",
    "\n",
    "        temp.append(role)\n",
    "        \n",
    "        job_info[count] = temp\n",
    "        count = count + 1\n",
    "        temp = []\n",
    "        jobdesc = ''\n",
    "            \n",
    "    return(job_info)\n",
    "\n",
    "# job_info = extract_job_info(soup)\n",
    "\n",
    "def htmlParser(role):\n",
    "    if role == 'software engineer':\n",
    "        URL = \"https://www.indeed.com/jobs?q=software+engineer&l=United+States\"\n",
    "        tempURL = URL\n",
    "        num = 10\n",
    "        job_info = {}\n",
    "        for i in range(0,40):\n",
    "            page = requests.get(URL)\n",
    "#             print(page)\n",
    "            soup = BeautifulSoup(page.text, \"html.parser\")\n",
    "#             print(soup.prettify())\n",
    "            URL = tempURL +'&start='+str(num)\n",
    "#             print(URL)\n",
    "            num = num + 10\n",
    "            job_info = extract_job_info(soup,job_info,role)\n",
    "            \n",
    "    elif role == 'data scientist':\n",
    "        URL = \"https://www.indeed.com/jobs?q=data+scientist&l=United+States\"\n",
    "        tempURL = URL\n",
    "        num = 10\n",
    "        job_info = {}\n",
    "        for i in range(0,40):\n",
    "            page = requests.get(URL)\n",
    "#             print(page)\n",
    "            soup = BeautifulSoup(page.text, \"html.parser\")\n",
    "#             print(soup.prettify())\n",
    "            URL = tempURL +'&start='+str(num)\n",
    "#             print(URL)\n",
    "            num = num + 10\n",
    "            job_info = extract_job_info(soup,job_info,role)\n",
    "    \n",
    "    elif role == 'data analyst':\n",
    "        URL = \"https://www.indeed.com/jobs?q=data+analyst&l=United+States\"\n",
    "        tempURL = URL\n",
    "        num = 10\n",
    "        job_info = {}\n",
    "        for i in range(0,40):\n",
    "            page = requests.get(URL)\n",
    "#             print(page)\n",
    "            soup = BeautifulSoup(page.text, \"html.parser\")\n",
    "#             print(soup.prettify())\n",
    "            URL = tempURL +'&start='+str(num)\n",
    "#             print(URL)\n",
    "            num = num + 10\n",
    "            job_info = extract_job_info(soup,job_info,role)\n",
    "    \n",
    "    elif role == 'machine learning engineer':\n",
    "        URL = \"https://www.indeed.com/jobs?q=machine+learning+engineer&l=United+States\"\n",
    "        tempURL = URL\n",
    "        num = 10\n",
    "        job_info = {}\n",
    "        for i in range(0,40):\n",
    "            page = requests.get(URL)\n",
    "#             print(page)\n",
    "            soup = BeautifulSoup(page.text, \"html.parser\")\n",
    "#             print(soup.prettify())\n",
    "            URL = tempURL +'&start='+str(num)\n",
    "#             print(URL)\n",
    "            num = num + 10\n",
    "            job_info = extract_job_info(soup,job_info,role)\n",
    "    \n",
    "    else:\n",
    "        print('Enter a valid role')\n",
    "    \n",
    "    return job_info\n",
    "\n",
    "def uploadToS3(result):\n",
    "    try:\n",
    "        bucket = 'hiringtrendanalysis' # already created on S3\n",
    "        csv_buffer = StringIO()\n",
    "        result.to_csv(csv_buffer)\n",
    "        s3_resource = boto3.resource('s3')\n",
    "        s3_resource.Object(bucket, 'jobdesc.csv').put(Body=csv_buffer.getvalue())\n",
    "    except ClientError as e:\n",
    "        logging.error(e)\n",
    "        return False\n",
    "    return True"
   ]
  },
  {
   "cell_type": "markdown",
   "metadata": {},
   "source": [
    "## scraping software engineer jobs"
   ]
  },
  {
   "cell_type": "code",
   "execution_count": 51,
   "metadata": {},
   "outputs": [
    {
     "name": "stdout",
     "output_type": "stream",
     "text": [
      "746\n"
     ]
    },
    {
     "data": {
      "text/plain": [
       "['Ribbon Health',\n",
       " 'New York, NY',\n",
       " 'Software Engineer (All Levels)',\n",
       " '\\nPassion and drive to simplify healthcare by building products that increase access to care and power every healthcare decision to be high-quality, cost-effective, and convenient\\nCommitment to Ribbon Health company values, working on an exceptional team, and building an exceptional company\\nGrit, hustle, desire, and a “get-it-done” attitude; strong comfort with a lean startup environment, where everyone is encouraged to participate in and contribute across all teams\\nYou have a strong background in Computer Science or other equivalent field\\nYou have experience developing full applications from start-to-finish\\nYou have experience working with data at scale (e.g., EMR, Hadoop, Spark, HBase, Presto, pushed the limits of Postgres) and designing, building, and managing scalable systems in the cloud (e.g., AWS, Google Cloud, Azure)\\nYou care about building enterprise-grade systems because you understand how our products meaningfully impact patients downstream\\nYou have comfort with AWS cloud technologies and have a track record of learning new technologies and languages on the job\\nBuild production-grade API platform: You will design, build, and maintain Ribbon’s core APIs and services, making sure our platform is enterprise-grade across end-user functionality, security, and scalability\\nBuild and launch new products: You will work with the product team to design, build, and launch new products and product features. This includes new APIs and front-end applications to extend the reach of our core technology\\nBuild data pipelines: You will build data pipelines to bring together thousands of datasets across hundreds of different sources; data engineering is a core part of what we do\\nBuild data infrastructure: You will develop infrastructure to support our ETL, analytics and modeling workflows\\nBuild internal tools: You will help our internal teams 10x their efforts by developing tools to streamline their workflows (e.g. sales, deployment, recruiting, and product)\\nEvaluate third-party and open source software: You will make decisions about what we build versus buy and where to buy',\n",
       " 'software engineer']"
      ]
     },
     "execution_count": 51,
     "metadata": {},
     "output_type": "execute_result"
    }
   ],
   "source": [
    "swe_info = htmlParser('software engineer')\n",
    "print(len(swe_info))\n",
    "swe_info[15]"
   ]
  },
  {
   "cell_type": "markdown",
   "metadata": {},
   "source": [
    "## scraping data analyst jobs"
   ]
  },
  {
   "cell_type": "code",
   "execution_count": 52,
   "metadata": {},
   "outputs": [
    {
     "name": "stdout",
     "output_type": "stream",
     "text": [
      "749\n"
     ]
    },
    {
     "data": {
      "text/plain": [
       "['Boston Medical Center (BMC)',\n",
       " 'Boston, MA',\n",
       " 'Data Analyst',\n",
       " '\\nPrior experience working with Strata or SAS required\\nPrior experience working with claims data very strongly preferred\\nWork experience using large datasets and conducting advanced analyses, including claims data, preferred\\nAdvanced proficiency in use of SAS/Stata or other statistical programs\\nDemonstrated ability to work with claims data\\nAdvanced proficiency use of desktop productivity tools including Excel, Word, and PowerPoint\\nAbility to manage multiple tasks and deliver required products in a timely manner\\nMust be well-organized and highly detail oriented\\nDetail oriented with a commitment to producing analytic product that consistently meets the highest standards of accuracy\\nExcellent interpersonal skills and the demonstrated ability to work in a team oriented environment\\nStrong verbal and written skills\\nExperience with ethical conduct of research preferred, but not required',\n",
       " 'data analyst']"
      ]
     },
     "execution_count": 52,
     "metadata": {},
     "output_type": "execute_result"
    }
   ],
   "source": [
    "da_info = htmlParser('data analyst')\n",
    "print(len(da_info))\n",
    "da_info[11]"
   ]
  },
  {
   "cell_type": "markdown",
   "metadata": {},
   "source": [
    "## scraping data scientist jobs"
   ]
  },
  {
   "cell_type": "code",
   "execution_count": 53,
   "metadata": {},
   "outputs": [
    {
     "name": "stdout",
     "output_type": "stream",
     "text": [
      "747\n"
     ]
    },
    {
     "data": {
      "text/plain": [
       "['GATACA',\n",
       " 'Blacksburg, VA',\n",
       " 'Bioinformatician and Data Scientist',\n",
       " 'Bioinformatics and Machine Learning/AI: 3 years (Preferred)LikelyOther formsMultiple locationsFully Remote30-399AM6PMOtherwww.gatacallc.com',\n",
       " 'data scientist']"
      ]
     },
     "execution_count": 53,
     "metadata": {},
     "output_type": "execute_result"
    }
   ],
   "source": [
    "ds_info =  htmlParser('data scientist')\n",
    "print(len(ds_info))\n",
    "ds_info[11]"
   ]
  },
  {
   "cell_type": "markdown",
   "metadata": {},
   "source": [
    "## scraping machine learning jobs"
   ]
  },
  {
   "cell_type": "code",
   "execution_count": 54,
   "metadata": {},
   "outputs": [
    {
     "name": "stdout",
     "output_type": "stream",
     "text": [
      "759\n"
     ]
    },
    {
     "data": {
      "text/plain": [
       "['Emotibot Technologies Limited',\n",
       " 'Boston, MA',\n",
       " 'Machine Learning / Deep Learning Engineer',\n",
       " 'Location: Boston OfficeContact Us at：job@emotibot.comResponsibilities:Participate in cutting edge research in AI and apply Machine Learning in real world, large scale problems such as Computer Vision, Natural Language Understanding, or Speech Analysis.Qualifications:Minimum qualifications:BA/BS degree in Computer Science, related technical field or equivalent practical experience.Preferred qualifications:MS or PhD degree in Computer Science, AI, Machine Learning, or related technical field.Experience with one or more general purpose programming languages including but not limited to: Java, C/C++, C#, Objective C, Python, JavaScript, or Go.Understanding and hands-on development experiences in state-of-the-art machine learning techniques such as Deep Neural Networks, CNN, RNN.Strong background in Natural Language Processing or Computer Vision.',\n",
       " 'machine learning engineer']"
      ]
     },
     "execution_count": 54,
     "metadata": {},
     "output_type": "execute_result"
    }
   ],
   "source": [
    "ml_info =  htmlParser('machine learning engineer')\n",
    "print(len(ml_info))\n",
    "ml_info[11]"
   ]
  },
  {
   "cell_type": "code",
   "execution_count": 55,
   "metadata": {},
   "outputs": [
    {
     "data": {
      "text/html": [
       "<div>\n",
       "<style scoped>\n",
       "    .dataframe tbody tr th:only-of-type {\n",
       "        vertical-align: middle;\n",
       "    }\n",
       "\n",
       "    .dataframe tbody tr th {\n",
       "        vertical-align: top;\n",
       "    }\n",
       "\n",
       "    .dataframe thead th {\n",
       "        text-align: right;\n",
       "    }\n",
       "</style>\n",
       "<table border=\"1\" class=\"dataframe\">\n",
       "  <thead>\n",
       "    <tr style=\"text-align: right;\">\n",
       "      <th></th>\n",
       "      <th>company</th>\n",
       "      <th>location</th>\n",
       "      <th>title</th>\n",
       "      <th>job_desc</th>\n",
       "      <th>role</th>\n",
       "    </tr>\n",
       "  </thead>\n",
       "  <tbody>\n",
       "    <tr>\n",
       "      <th>0</th>\n",
       "      <td>Indeed</td>\n",
       "      <td>Seattle, WA</td>\n",
       "      <td>Director, Software Engineering</td>\n",
       "      <td>software engineer</td>\n",
       "      <td>None</td>\n",
       "    </tr>\n",
       "    <tr>\n",
       "      <th>1</th>\n",
       "      <td>Intertech, Inc</td>\n",
       "      <td>San Francisco, CA</td>\n",
       "      <td>.NET Software Engineer - Remote</td>\n",
       "      <td>Contract to hire or direct placement100% Remot...</td>\n",
       "      <td>software engineer</td>\n",
       "    </tr>\n",
       "    <tr>\n",
       "      <th>2</th>\n",
       "      <td>GEICO</td>\n",
       "      <td>Chevy Chase, MD</td>\n",
       "      <td>Senior Software Engineer</td>\n",
       "      <td>Manage system integrations within the architec...</td>\n",
       "      <td>software engineer</td>\n",
       "    </tr>\n",
       "    <tr>\n",
       "      <th>3</th>\n",
       "      <td>Sagitec</td>\n",
       "      <td>Topeka, KS</td>\n",
       "      <td>Software Engineer</td>\n",
       "      <td>Manage, design, develop, test, implement and m...</td>\n",
       "      <td>software engineer</td>\n",
       "    </tr>\n",
       "    <tr>\n",
       "      <th>4</th>\n",
       "      <td>Dassault Systèmes</td>\n",
       "      <td>Waltham, MA</td>\n",
       "      <td>Full Stack .Net Developer - SOLIDWORKS</td>\n",
       "      <td>\\nMaintain highly-available software activatio...</td>\n",
       "      <td>software engineer</td>\n",
       "    </tr>\n",
       "  </tbody>\n",
       "</table>\n",
       "</div>"
      ],
      "text/plain": [
       "             company           location  \\\n",
       "0             Indeed        Seattle, WA   \n",
       "1     Intertech, Inc  San Francisco, CA   \n",
       "2              GEICO    Chevy Chase, MD   \n",
       "3            Sagitec         Topeka, KS   \n",
       "4  Dassault Systèmes        Waltham, MA   \n",
       "\n",
       "                                    title  \\\n",
       "0          Director, Software Engineering   \n",
       "1         .NET Software Engineer - Remote   \n",
       "2                Senior Software Engineer   \n",
       "3                       Software Engineer   \n",
       "4  Full Stack .Net Developer - SOLIDWORKS   \n",
       "\n",
       "                                            job_desc               role  \n",
       "0                                  software engineer               None  \n",
       "1  Contract to hire or direct placement100% Remot...  software engineer  \n",
       "2  Manage system integrations within the architec...  software engineer  \n",
       "3  Manage, design, develop, test, implement and m...  software engineer  \n",
       "4  \\nMaintain highly-available software activatio...  software engineer  "
      ]
     },
     "execution_count": 55,
     "metadata": {},
     "output_type": "execute_result"
    }
   ],
   "source": [
    "swe_info_df = pd.DataFrame.from_dict(swe_info, orient='index', columns=['company','location','title','job_desc','role'])\n",
    "swe_info_df.head()"
   ]
  },
  {
   "cell_type": "code",
   "execution_count": 56,
   "metadata": {},
   "outputs": [
    {
     "data": {
      "text/html": [
       "<div>\n",
       "<style scoped>\n",
       "    .dataframe tbody tr th:only-of-type {\n",
       "        vertical-align: middle;\n",
       "    }\n",
       "\n",
       "    .dataframe tbody tr th {\n",
       "        vertical-align: top;\n",
       "    }\n",
       "\n",
       "    .dataframe thead th {\n",
       "        text-align: right;\n",
       "    }\n",
       "</style>\n",
       "<table border=\"1\" class=\"dataframe\">\n",
       "  <thead>\n",
       "    <tr style=\"text-align: right;\">\n",
       "      <th></th>\n",
       "      <th>company</th>\n",
       "      <th>location</th>\n",
       "      <th>title</th>\n",
       "      <th>job_desc</th>\n",
       "      <th>role</th>\n",
       "    </tr>\n",
       "  </thead>\n",
       "  <tbody>\n",
       "    <tr>\n",
       "      <th>0</th>\n",
       "      <td>The University of Pittsburgh</td>\n",
       "      <td>Pittsburgh, PA</td>\n",
       "      <td>Data Analyst</td>\n",
       "      <td>NA</td>\n",
       "      <td>data analyst</td>\n",
       "    </tr>\n",
       "    <tr>\n",
       "      <th>1</th>\n",
       "      <td>INTEGRATED FEDERAL SOLUTIONS, INC.</td>\n",
       "      <td>Washington, DC</td>\n",
       "      <td>Acquisition Data Analyst</td>\n",
       "      <td>Excellent interpersonal and communication skil...</td>\n",
       "      <td>data analyst</td>\n",
       "    </tr>\n",
       "    <tr>\n",
       "      <th>2</th>\n",
       "      <td>Private</td>\n",
       "      <td>Aurora, CO</td>\n",
       "      <td>Data Analyst</td>\n",
       "      <td>401K(matching structure)Performance Incentives...</td>\n",
       "      <td>data analyst</td>\n",
       "    </tr>\n",
       "    <tr>\n",
       "      <th>3</th>\n",
       "      <td>INTEGRA MLTC, INC.</td>\n",
       "      <td>Lake Success, NY</td>\n",
       "      <td>Encounter Data Analyst</td>\n",
       "      <td>Retrieves, compiles, reviews, and ensures the ...</td>\n",
       "      <td>data analyst</td>\n",
       "    </tr>\n",
       "    <tr>\n",
       "      <th>4</th>\n",
       "      <td>Lemonaid Health (lemonaid.com)</td>\n",
       "      <td>San Francisco, CA</td>\n",
       "      <td>Data Analyst (SQL Monster!)</td>\n",
       "      <td>We’ve grown fast in the last two years.We’ve a...</td>\n",
       "      <td>data analyst</td>\n",
       "    </tr>\n",
       "  </tbody>\n",
       "</table>\n",
       "</div>"
      ],
      "text/plain": [
       "                              company           location  \\\n",
       "0        The University of Pittsburgh     Pittsburgh, PA   \n",
       "1  INTEGRATED FEDERAL SOLUTIONS, INC.     Washington, DC   \n",
       "2                             Private         Aurora, CO   \n",
       "3                  INTEGRA MLTC, INC.   Lake Success, NY   \n",
       "4      Lemonaid Health (lemonaid.com)  San Francisco, CA   \n",
       "\n",
       "                         title  \\\n",
       "0                 Data Analyst   \n",
       "1     Acquisition Data Analyst   \n",
       "2                 Data Analyst   \n",
       "3       Encounter Data Analyst   \n",
       "4  Data Analyst (SQL Monster!)   \n",
       "\n",
       "                                            job_desc          role  \n",
       "0                                                 NA  data analyst  \n",
       "1  Excellent interpersonal and communication skil...  data analyst  \n",
       "2  401K(matching structure)Performance Incentives...  data analyst  \n",
       "3  Retrieves, compiles, reviews, and ensures the ...  data analyst  \n",
       "4  We’ve grown fast in the last two years.We’ve a...  data analyst  "
      ]
     },
     "execution_count": 56,
     "metadata": {},
     "output_type": "execute_result"
    }
   ],
   "source": [
    "da_info_df = pd.DataFrame.from_dict(da_info, orient='index', columns=['company','location','title','job_desc','role'])\n",
    "da_info_df.head()"
   ]
  },
  {
   "cell_type": "code",
   "execution_count": 57,
   "metadata": {},
   "outputs": [
    {
     "data": {
      "text/html": [
       "<div>\n",
       "<style scoped>\n",
       "    .dataframe tbody tr th:only-of-type {\n",
       "        vertical-align: middle;\n",
       "    }\n",
       "\n",
       "    .dataframe tbody tr th {\n",
       "        vertical-align: top;\n",
       "    }\n",
       "\n",
       "    .dataframe thead th {\n",
       "        text-align: right;\n",
       "    }\n",
       "</style>\n",
       "<table border=\"1\" class=\"dataframe\">\n",
       "  <thead>\n",
       "    <tr style=\"text-align: right;\">\n",
       "      <th></th>\n",
       "      <th>company</th>\n",
       "      <th>location</th>\n",
       "      <th>title</th>\n",
       "      <th>job_desc</th>\n",
       "      <th>role</th>\n",
       "    </tr>\n",
       "  </thead>\n",
       "  <tbody>\n",
       "    <tr>\n",
       "      <th>0</th>\n",
       "      <td>NU Borders</td>\n",
       "      <td>Washington, DC</td>\n",
       "      <td>Data Scientist</td>\n",
       "      <td>Work with operational teams in the field to id...</td>\n",
       "      <td>data scientist</td>\n",
       "    </tr>\n",
       "    <tr>\n",
       "      <th>1</th>\n",
       "      <td>Humana</td>\n",
       "      <td>Boston, MA</td>\n",
       "      <td>Senior Data Scientist</td>\n",
       "      <td>\\nBachelor's Degree in a quantitative discipli...</td>\n",
       "      <td>data scientist</td>\n",
       "    </tr>\n",
       "    <tr>\n",
       "      <th>2</th>\n",
       "      <td>Stanley Black &amp; Decker</td>\n",
       "      <td>Towson, MD</td>\n",
       "      <td>Data Scientist</td>\n",
       "      <td>\\nLead various ad-hoc requests for customer in...</td>\n",
       "      <td>data scientist</td>\n",
       "    </tr>\n",
       "    <tr>\n",
       "      <th>3</th>\n",
       "      <td>Humana</td>\n",
       "      <td>Boston, MA</td>\n",
       "      <td>Lead Data Scientist</td>\n",
       "      <td>\\nCollaborate with key business leaders to und...</td>\n",
       "      <td>data scientist</td>\n",
       "    </tr>\n",
       "    <tr>\n",
       "      <th>4</th>\n",
       "      <td>MORSE Corp</td>\n",
       "      <td>Cambridge, MA</td>\n",
       "      <td>Data Scientist</td>\n",
       "      <td>NA</td>\n",
       "      <td>data scientist</td>\n",
       "    </tr>\n",
       "  </tbody>\n",
       "</table>\n",
       "</div>"
      ],
      "text/plain": [
       "                  company        location                  title  \\\n",
       "0              NU Borders  Washington, DC         Data Scientist   \n",
       "1                  Humana      Boston, MA  Senior Data Scientist   \n",
       "2  Stanley Black & Decker      Towson, MD         Data Scientist   \n",
       "3                  Humana      Boston, MA    Lead Data Scientist   \n",
       "4              MORSE Corp   Cambridge, MA         Data Scientist   \n",
       "\n",
       "                                            job_desc            role  \n",
       "0  Work with operational teams in the field to id...  data scientist  \n",
       "1  \\nBachelor's Degree in a quantitative discipli...  data scientist  \n",
       "2  \\nLead various ad-hoc requests for customer in...  data scientist  \n",
       "3  \\nCollaborate with key business leaders to und...  data scientist  \n",
       "4                                                 NA  data scientist  "
      ]
     },
     "execution_count": 57,
     "metadata": {},
     "output_type": "execute_result"
    }
   ],
   "source": [
    "ds_info_df = pd.DataFrame.from_dict(ds_info, orient='index', columns=['company','location','title','job_desc','role'])\n",
    "ds_info_df.head()"
   ]
  },
  {
   "cell_type": "code",
   "execution_count": 58,
   "metadata": {},
   "outputs": [
    {
     "data": {
      "text/html": [
       "<div>\n",
       "<style scoped>\n",
       "    .dataframe tbody tr th:only-of-type {\n",
       "        vertical-align: middle;\n",
       "    }\n",
       "\n",
       "    .dataframe tbody tr th {\n",
       "        vertical-align: top;\n",
       "    }\n",
       "\n",
       "    .dataframe thead th {\n",
       "        text-align: right;\n",
       "    }\n",
       "</style>\n",
       "<table border=\"1\" class=\"dataframe\">\n",
       "  <thead>\n",
       "    <tr style=\"text-align: right;\">\n",
       "      <th></th>\n",
       "      <th>company</th>\n",
       "      <th>location</th>\n",
       "      <th>title</th>\n",
       "      <th>job_desc</th>\n",
       "      <th>role</th>\n",
       "    </tr>\n",
       "  </thead>\n",
       "  <tbody>\n",
       "    <tr>\n",
       "      <th>0</th>\n",
       "      <td>Capital One</td>\n",
       "      <td>Cambridge, MA</td>\n",
       "      <td>Machine Learning Software Engineer</td>\n",
       "      <td>\\nBachelor's Degree\\nAt least 2 years of exper...</td>\n",
       "      <td>machine learning engineer</td>\n",
       "    </tr>\n",
       "    <tr>\n",
       "      <th>1</th>\n",
       "      <td>AIT Global Inc</td>\n",
       "      <td>Burlington, MA</td>\n",
       "      <td>Machine Learning Engineer</td>\n",
       "      <td>Transition POC machine learning workflows into...</td>\n",
       "      <td>machine learning engineer</td>\n",
       "    </tr>\n",
       "    <tr>\n",
       "      <th>2</th>\n",
       "      <td>Engtal</td>\n",
       "      <td>Boston, MA</td>\n",
       "      <td>Machine Vision Engineer (Fully Remote)</td>\n",
       "      <td>BS in Computer Science, Physics, Math, or Elec...</td>\n",
       "      <td>machine learning engineer</td>\n",
       "    </tr>\n",
       "    <tr>\n",
       "      <th>3</th>\n",
       "      <td>Event Dynamic</td>\n",
       "      <td>Dallas, TX</td>\n",
       "      <td>Machine Learning Engineer</td>\n",
       "      <td>Automation of the ML pipeline and development ...</td>\n",
       "      <td>machine learning engineer</td>\n",
       "    </tr>\n",
       "    <tr>\n",
       "      <th>4</th>\n",
       "      <td>Selby Jennings</td>\n",
       "      <td>Boston, MA</td>\n",
       "      <td>Senior Software Engineer | Machine Learning | ...</td>\n",
       "      <td>\\nDesign and build financial instruments and E...</td>\n",
       "      <td>machine learning engineer</td>\n",
       "    </tr>\n",
       "  </tbody>\n",
       "</table>\n",
       "</div>"
      ],
      "text/plain": [
       "          company        location  \\\n",
       "0     Capital One   Cambridge, MA   \n",
       "1  AIT Global Inc  Burlington, MA   \n",
       "2          Engtal      Boston, MA   \n",
       "3   Event Dynamic      Dallas, TX   \n",
       "4  Selby Jennings      Boston, MA   \n",
       "\n",
       "                                               title  \\\n",
       "0                 Machine Learning Software Engineer   \n",
       "1                          Machine Learning Engineer   \n",
       "2             Machine Vision Engineer (Fully Remote)   \n",
       "3                          Machine Learning Engineer   \n",
       "4  Senior Software Engineer | Machine Learning | ...   \n",
       "\n",
       "                                            job_desc  \\\n",
       "0  \\nBachelor's Degree\\nAt least 2 years of exper...   \n",
       "1  Transition POC machine learning workflows into...   \n",
       "2  BS in Computer Science, Physics, Math, or Elec...   \n",
       "3  Automation of the ML pipeline and development ...   \n",
       "4  \\nDesign and build financial instruments and E...   \n",
       "\n",
       "                        role  \n",
       "0  machine learning engineer  \n",
       "1  machine learning engineer  \n",
       "2  machine learning engineer  \n",
       "3  machine learning engineer  \n",
       "4  machine learning engineer  "
      ]
     },
     "execution_count": 58,
     "metadata": {},
     "output_type": "execute_result"
    }
   ],
   "source": [
    "ml_info_df = pd.DataFrame.from_dict(ml_info, orient='index', columns=['company','location','title','job_desc','role'])\n",
    "ml_info_df.head()"
   ]
  },
  {
   "cell_type": "code",
   "execution_count": 59,
   "metadata": {},
   "outputs": [
    {
     "data": {
      "text/plain": [
       "True"
      ]
     },
     "execution_count": 59,
     "metadata": {},
     "output_type": "execute_result"
    }
   ],
   "source": [
    "frames = [swe_info_df,da_info_df,ds_info_df,ml_info_df]\n",
    "result = pd.concat(frames)\n",
    "# result.head()\n",
    "# result.to_csv('temp.csv', index=False)\n",
    "uploadToS3(result)"
   ]
  },
  {
   "cell_type": "code",
   "execution_count": null,
   "metadata": {},
   "outputs": [],
   "source": [
    "# URL = \"https://www.indeed.com/jobs?q=software+engineer&l=United+States\"\n",
    "\n",
    "# page = requests.get(URL)\n",
    "# #             print(page)\n",
    "# soup = BeautifulSoup(page.text, \"html.parser\")\n",
    "# #             print(soup.prettify())\n",
    "\n",
    "# jb = {}\n",
    "# job_info = {}\n",
    "\n",
    "# jb = extract_job_info(soup,job_info)\n",
    "\n",
    "# jb[5]"
   ]
  }
 ],
 "metadata": {
  "kernelspec": {
   "display_name": "Python 3",
   "language": "python",
   "name": "python3"
  },
  "language_info": {
   "codemirror_mode": {
    "name": "ipython",
    "version": 3
   },
   "file_extension": ".py",
   "mimetype": "text/x-python",
   "name": "python",
   "nbconvert_exporter": "python",
   "pygments_lexer": "ipython3",
   "version": "3.7.6"
  }
 },
 "nbformat": 4,
 "nbformat_minor": 4
}
